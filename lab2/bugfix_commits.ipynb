{
 "cells": [
  {
   "cell_type": "code",
   "execution_count": null,
   "id": "2e8455c3",
   "metadata": {},
   "outputs": [],
   "source": [
    "import os\n",
    "import subprocess\n",
    "import csv\n",
    "import pandas as pd\n",
    "from pydriller import Repository\n",
    "from tqdm import tqdm\n",
    "\n",
    "REPO_URL = \"https://github.com/3b1b/manim\"\n",
    "repo_name = REPO_URL.split(\"/\")[-1].replace(\".git\", \"\")\n",
    "output_csv = 'bugfix_commits.csv'\n",
    "output_folder = 'results'"
   ]
  },
  {
   "cell_type": "code",
   "execution_count": null,
   "id": "8d4625d6",
   "metadata": {},
   "outputs": [
    {
     "name": "stdout",
     "output_type": "stream",
     "text": [
      "📦 Repository manim already exists. Skipping clone.\n"
     ]
    }
   ],
   "source": [
    "# clone the repositories if not already cloned\n",
    "if not os.path.exists(repo_name):\n",
    "    print(f\"Cloning {repo_name} from {REPO_URL}...\")\n",
    "    subprocess.run([\"git\", \"clone\", REPO_URL])\n",
    "else:\n",
    "    print(f\"Repository {repo_name} already exists. Skipping clone.\")"
   ]
  },
  {
   "cell_type": "code",
   "execution_count": null,
   "id": "4d1d5cd0",
   "metadata": {},
   "outputs": [],
   "source": [
    "bug_keywords = ['fix', 'bug', 'patch', 'error', 'issue', 'defect', 'crash', 'fault', 'flaw', \n",
    "                'glitch', 'mistake', 'repair', 'resolve', 'solve', 'fail', 'break', 'broke', \n",
    "                'overflow', 'leak', 'vulnerability']\n",
    "\n",
    "def is_bugfix(msg):\n",
    "    msg = msg.lower()\n",
    "    return any(word in msg for word in bug_keywords)"
   ]
  },
  {
   "cell_type": "code",
   "execution_count": null,
   "id": "23031085",
   "metadata": {},
   "outputs": [
    {
     "name": "stderr",
     "output_type": "stream",
     "text": [
      "Processing commits: 100%|██████████| 6344/6344 [02:48<00:00, 37.66it/s] "
     ]
    },
    {
     "name": "stdout",
     "output_type": "stream",
     "text": [
      "Bug-fixing commits written to bugfix_commits.csv\n"
     ]
    },
    {
     "name": "stderr",
     "output_type": "stream",
     "text": [
      "\n"
     ]
    }
   ],
   "source": [
    "fields = ['commit_hash', 'commit_message', 'parent_hashes', 'is_merge_commit', 'modified_files']\n",
    "\n",
    "with open(f\"{output_folder}/{output_csv}\", 'w', newline='', encoding='utf-8') as f:\n",
    "    writer = csv.DictWriter(f, fieldnames=fields)\n",
    "    writer.writeheader()\n",
    "\n",
    "    commits_list = list(Repository(repo_name).traverse_commits())\n",
    "    for commit in tqdm(commits_list, desc=\"Processing commits\"):\n",
    "        if is_bugfix(commit.msg):\n",
    "            writer.writerow({\n",
    "                'commit_hash': commit.hash,\n",
    "                'commit_message': commit.msg.replace('\\n', ' ').replace('\\r', ' '),\n",
    "                'parent_hashes': '; '.join(commit.parents),\n",
    "                'is_merge_commit': commit.merge,\n",
    "                'modified_files': '; '.join([mf.filename for mf in commit.modified_files])\n",
    "            })\n",
    "\n",
    "print(f\"Bug-fixing commits written to {output_folder}/{output_csv}\")"
   ]
  },
  {
   "cell_type": "code",
   "execution_count": 8,
   "id": "0a99e3c3",
   "metadata": {},
   "outputs": [
    {
     "name": "stdout",
     "output_type": "stream",
     "text": [
      "Number of bug-fixing commits found: 1358\n"
     ]
    },
    {
     "data": {
      "application/vnd.microsoft.datawrangler.viewer.v0+json": {
       "columns": [
        {
         "name": "index",
         "rawType": "int64",
         "type": "integer"
        },
        {
         "name": "commit_hash",
         "rawType": "object",
         "type": "string"
        },
        {
         "name": "commit_message",
         "rawType": "object",
         "type": "string"
        },
        {
         "name": "parent_hashes",
         "rawType": "object",
         "type": "string"
        },
        {
         "name": "is_merge_commit",
         "rawType": "bool",
         "type": "boolean"
        },
        {
         "name": "modified_files",
         "rawType": "object",
         "type": "string"
        }
       ],
       "ref": "10f22d26-6fa5-4ac5-a123-4b6cf42764bc",
       "rows": [
        [
         "0",
         "014a277a97759bbc0e6ec8fba588bc6e6de65a86",
         "A few fixes to initial point_thickness implementation",
         "c0994ed0a53f06a555ea8d42903c2038fb54db2a",
         "False",
         "constants.py; displayer.py; mobject.py"
        ],
        [
         "1",
         "2e074afb60d13262ce1e42e83bcf0ed28d95ad82",
         "middle of massive restructure, everything still broken",
         "096c5c1890e326e67ee387c921901f84ca3f3f37",
         "False",
         "__init__.py; __init__.py; animation.py; meta_animations.py; simple_animations.py; transform.py; displayer.py; extract_scene.py; helpers.py; image_mobject.py; images2gif.py; mobject.py; __init__.py; complex_multiplication_article.py; counting_in_binary.py; eulers_characteristic_formula.py; generate_logo.py; inventing_math.py; inventing_math_images.py; moser_intro.py; moser_main.py; music_and_measure.py; playground_counting_in_binary.py; tau_poem.py; region.py; sample_script.py; __init__.py; counting_scene.py; number_line.py; scene.py; scene_from_video.py; tk_scene.py; inventing_math.py; tex_utils.py; __init__.py; arithmetic.py; characters.py; combinatorics.py; complex_numbers.py; functions.py; geometry.py; graph_theory.py; matrix_as_transform_2d.py; number_line.py; pythagorean_proof.py; three_dimensions.py"
        ],
        [
         "2",
         "ac930952f151acf284f6e01e98e8f7256f29f9f4",
         "Beginning transform KA article, many small fixes to the mobject refactor",
         "d294d0f951f01b307805d18679509c4c9d4b7301",
         "False",
         "animation.py; meta_animations.py; simple_animations.py; transform.py; extract_scene.py; mobject.py; complex_multiplication_article.py; pythagorean_proof.py; scene.py; arithmetic.py; characters.py; combinatorics.py; complex_numbers.py; geometry.py; graph_theory.py; number_line.py; transform_article.py"
        ],
        [
         "3",
         "2322018875b218cc156f50d30d865a86d4a68a13",
         "quick rgb-should-be-numpy-array bug fix",
         "c7389e008d3dc79f61e8270ff18758210b7e6a9e",
         "False",
         "mobject.py"
        ],
        [
         "4",
         "7ae5a0eccb13713b3439d9c0a0b79bcfc96b05be",
         "Slightly faster sort_points method, and bug fix in fade",
         "7f45044bafb27c94ae1b3f900014b3fbdc612e5f",
         "False",
         "mobject.py"
        ],
        [
         "5",
         "f21f6619a5150d193d85ed31ef60ed5b986661ca",
         "Fix to Stars Mobject",
         "7ae5a0eccb13713b3439d9c0a0b79bcfc96b05be",
         "False",
         "geometry.py; three_dimensions.py"
        ],
        [
         "6",
         "68160140233b8f7ebf00aa2894ea57984c504a90",
         "Bug fix to bug fix on Mobject.fade method",
         "8f8eeea870c2f780cc93950a6de6bd6a168fcfb4",
         "False",
         "mobject.py"
        ],
        [
         "7",
         "4f57551344e2655e53c9dcf72ee7d17333605f62",
         "Bug in Arrow buffer",
         "68160140233b8f7ebf00aa2894ea57984c504a90",
         "False",
         "geometry.py"
        ],
        [
         "8",
         "5964d5206ac15fc0544325728e232b69aa007e4d",
         "Fixed ShowCreation",
         "84054286824d0ca17219f7d3e11a5f256f098559",
         "False",
         "simple_animations.py"
        ],
        [
         "9",
         "9e54a5a6802d12994b007434b98c9f82d7dfd085",
         "Fixed PiCreature mouth, but more work remains",
         "c0009064d6ee0183f2d36fd15d7442b6efd10f54",
         "False",
         "characters.py"
        ],
        [
         "10",
         "ea6343691d440c1662480b25f6696c6d1090c537",
         "Different default arrow color",
         "9e54a5a6802d12994b007434b98c9f82d7dfd085",
         "False",
         "geometry.py"
        ],
        [
         "11",
         "69be4328ce0a90a25758a7d158b8bc4ee973ce29",
         "Small bug in how displayer had been refactored",
         "c16abfd6c80268e2656a95d566afb522aa6659ba",
         "False",
         "displayer.py"
        ],
        [
         "12",
         "ff5075ce7d3db6381fb0e7e44f90af4b8ac47746",
         "Couple scene bug fixes",
         "e45e20b5b0fc03cf60c2985d59a5b2883c714af1",
         "False",
         "scene.py"
        ],
        [
         "13",
         "810bcb98133aa1a62efc52c75cc1d285b241293e",
         "Small fixes while putting together Hilbert video",
         "64ac1426b3f00e85d26001b227542b53543090bd",
         "False",
         "section1.py; section2.py; stage_animations.py"
        ],
        [
         "14",
         "468303c30912618ceb84cafc9462c37da55b73fe",
         "tuplify bug fix",
         "75c88375d9b09be6b3021b3b87ba424c51c74fe2",
         "False",
         "helpers.py"
        ],
        [
         "15",
         "9262c395ce77e6b15603803fe0e38607146c8b25",
         "Turns out generate_logo was broken, who knew?",
         "9c2bb850fece9fe2dd1a6486a81cef8591eea475",
         "False",
         "generate_logo.py"
        ],
        [
         "16",
         "a06848a2191f9033a7eb98278b7bb55f534f1879",
         "DEFAULT_CONFIG -> CONFIG",
         "8376ac431e0be1ab4de63723a08840fc6d85229b",
         "False",
         "animation.py; playground.py; simple_animations.py; transform.py; curves.py; light.py; camera.py; displayer.py; fluid_flow.py; generate_logo.py; image_mobject.py; mobject.py; region.py; tex_mobject.py; music_and_measure.py; scene.py; arithmetic.py; characters.py; complex_numbers.py; fractals.py; functions.py; geometry.py; number_line.py; three_dimensions.py"
        ],
        [
         "17",
         "9d94337d9909cceef51d626cab62c9d5b3552b15",
         "fixed tiny config error for Square",
         "6bb3a2c18194ef1a1e728c869b22794cebe7f3f8",
         "False",
         "geometry.py"
        ],
        [
         "18",
         "803301e4a181e98099967d701f2ddf034fa017f2",
         "Fixes to multilayered scnes",
         "9a73fe0d4e953d9ad9f602dd0fe1eab1b284b40d",
         "False",
         "curves.py; multilayered.py; constants.py"
        ],
        [
         "19",
         "a9f620e2508cf9de4f5a405449673d4d50804d80",
         "Better interpolation, bezier subpaths, and color bugfix",
         "c685211484b50a900b2d97bca6f1ecf631ab1ab4",
         "False",
         "camera.py; helpers.py; image_mobject.py; mobject.py; point_cloud_mobject.py; tex_mobject.py; vectorized_mobject.py"
        ]
       ],
       "shape": {
        "columns": 5,
        "rows": 20
       }
      },
      "text/html": [
       "<div>\n",
       "<style scoped>\n",
       "    .dataframe tbody tr th:only-of-type {\n",
       "        vertical-align: middle;\n",
       "    }\n",
       "\n",
       "    .dataframe tbody tr th {\n",
       "        vertical-align: top;\n",
       "    }\n",
       "\n",
       "    .dataframe thead th {\n",
       "        text-align: right;\n",
       "    }\n",
       "</style>\n",
       "<table border=\"1\" class=\"dataframe\">\n",
       "  <thead>\n",
       "    <tr style=\"text-align: right;\">\n",
       "      <th></th>\n",
       "      <th>commit_hash</th>\n",
       "      <th>commit_message</th>\n",
       "      <th>parent_hashes</th>\n",
       "      <th>is_merge_commit</th>\n",
       "      <th>modified_files</th>\n",
       "    </tr>\n",
       "  </thead>\n",
       "  <tbody>\n",
       "    <tr>\n",
       "      <th>0</th>\n",
       "      <td>014a277a97759bbc0e6ec8fba588bc6e6de65a86</td>\n",
       "      <td>A few fixes to initial point_thickness impleme...</td>\n",
       "      <td>c0994ed0a53f06a555ea8d42903c2038fb54db2a</td>\n",
       "      <td>False</td>\n",
       "      <td>constants.py; displayer.py; mobject.py</td>\n",
       "    </tr>\n",
       "    <tr>\n",
       "      <th>1</th>\n",
       "      <td>2e074afb60d13262ce1e42e83bcf0ed28d95ad82</td>\n",
       "      <td>middle of massive restructure, everything stil...</td>\n",
       "      <td>096c5c1890e326e67ee387c921901f84ca3f3f37</td>\n",
       "      <td>False</td>\n",
       "      <td>__init__.py; __init__.py; animation.py; meta_a...</td>\n",
       "    </tr>\n",
       "    <tr>\n",
       "      <th>2</th>\n",
       "      <td>ac930952f151acf284f6e01e98e8f7256f29f9f4</td>\n",
       "      <td>Beginning transform KA article, many small fix...</td>\n",
       "      <td>d294d0f951f01b307805d18679509c4c9d4b7301</td>\n",
       "      <td>False</td>\n",
       "      <td>animation.py; meta_animations.py; simple_anima...</td>\n",
       "    </tr>\n",
       "    <tr>\n",
       "      <th>3</th>\n",
       "      <td>2322018875b218cc156f50d30d865a86d4a68a13</td>\n",
       "      <td>quick rgb-should-be-numpy-array bug fix</td>\n",
       "      <td>c7389e008d3dc79f61e8270ff18758210b7e6a9e</td>\n",
       "      <td>False</td>\n",
       "      <td>mobject.py</td>\n",
       "    </tr>\n",
       "    <tr>\n",
       "      <th>4</th>\n",
       "      <td>7ae5a0eccb13713b3439d9c0a0b79bcfc96b05be</td>\n",
       "      <td>Slightly faster sort_points method, and bug fi...</td>\n",
       "      <td>7f45044bafb27c94ae1b3f900014b3fbdc612e5f</td>\n",
       "      <td>False</td>\n",
       "      <td>mobject.py</td>\n",
       "    </tr>\n",
       "    <tr>\n",
       "      <th>5</th>\n",
       "      <td>f21f6619a5150d193d85ed31ef60ed5b986661ca</td>\n",
       "      <td>Fix to Stars Mobject</td>\n",
       "      <td>7ae5a0eccb13713b3439d9c0a0b79bcfc96b05be</td>\n",
       "      <td>False</td>\n",
       "      <td>geometry.py; three_dimensions.py</td>\n",
       "    </tr>\n",
       "    <tr>\n",
       "      <th>6</th>\n",
       "      <td>68160140233b8f7ebf00aa2894ea57984c504a90</td>\n",
       "      <td>Bug fix to bug fix on Mobject.fade method</td>\n",
       "      <td>8f8eeea870c2f780cc93950a6de6bd6a168fcfb4</td>\n",
       "      <td>False</td>\n",
       "      <td>mobject.py</td>\n",
       "    </tr>\n",
       "    <tr>\n",
       "      <th>7</th>\n",
       "      <td>4f57551344e2655e53c9dcf72ee7d17333605f62</td>\n",
       "      <td>Bug in Arrow buffer</td>\n",
       "      <td>68160140233b8f7ebf00aa2894ea57984c504a90</td>\n",
       "      <td>False</td>\n",
       "      <td>geometry.py</td>\n",
       "    </tr>\n",
       "    <tr>\n",
       "      <th>8</th>\n",
       "      <td>5964d5206ac15fc0544325728e232b69aa007e4d</td>\n",
       "      <td>Fixed ShowCreation</td>\n",
       "      <td>84054286824d0ca17219f7d3e11a5f256f098559</td>\n",
       "      <td>False</td>\n",
       "      <td>simple_animations.py</td>\n",
       "    </tr>\n",
       "    <tr>\n",
       "      <th>9</th>\n",
       "      <td>9e54a5a6802d12994b007434b98c9f82d7dfd085</td>\n",
       "      <td>Fixed PiCreature mouth, but more work remains</td>\n",
       "      <td>c0009064d6ee0183f2d36fd15d7442b6efd10f54</td>\n",
       "      <td>False</td>\n",
       "      <td>characters.py</td>\n",
       "    </tr>\n",
       "    <tr>\n",
       "      <th>10</th>\n",
       "      <td>ea6343691d440c1662480b25f6696c6d1090c537</td>\n",
       "      <td>Different default arrow color</td>\n",
       "      <td>9e54a5a6802d12994b007434b98c9f82d7dfd085</td>\n",
       "      <td>False</td>\n",
       "      <td>geometry.py</td>\n",
       "    </tr>\n",
       "    <tr>\n",
       "      <th>11</th>\n",
       "      <td>69be4328ce0a90a25758a7d158b8bc4ee973ce29</td>\n",
       "      <td>Small bug in how displayer had been refactored</td>\n",
       "      <td>c16abfd6c80268e2656a95d566afb522aa6659ba</td>\n",
       "      <td>False</td>\n",
       "      <td>displayer.py</td>\n",
       "    </tr>\n",
       "    <tr>\n",
       "      <th>12</th>\n",
       "      <td>ff5075ce7d3db6381fb0e7e44f90af4b8ac47746</td>\n",
       "      <td>Couple scene bug fixes</td>\n",
       "      <td>e45e20b5b0fc03cf60c2985d59a5b2883c714af1</td>\n",
       "      <td>False</td>\n",
       "      <td>scene.py</td>\n",
       "    </tr>\n",
       "    <tr>\n",
       "      <th>13</th>\n",
       "      <td>810bcb98133aa1a62efc52c75cc1d285b241293e</td>\n",
       "      <td>Small fixes while putting together Hilbert video</td>\n",
       "      <td>64ac1426b3f00e85d26001b227542b53543090bd</td>\n",
       "      <td>False</td>\n",
       "      <td>section1.py; section2.py; stage_animations.py</td>\n",
       "    </tr>\n",
       "    <tr>\n",
       "      <th>14</th>\n",
       "      <td>468303c30912618ceb84cafc9462c37da55b73fe</td>\n",
       "      <td>tuplify bug fix</td>\n",
       "      <td>75c88375d9b09be6b3021b3b87ba424c51c74fe2</td>\n",
       "      <td>False</td>\n",
       "      <td>helpers.py</td>\n",
       "    </tr>\n",
       "    <tr>\n",
       "      <th>15</th>\n",
       "      <td>9262c395ce77e6b15603803fe0e38607146c8b25</td>\n",
       "      <td>Turns out generate_logo was broken, who knew?</td>\n",
       "      <td>9c2bb850fece9fe2dd1a6486a81cef8591eea475</td>\n",
       "      <td>False</td>\n",
       "      <td>generate_logo.py</td>\n",
       "    </tr>\n",
       "    <tr>\n",
       "      <th>16</th>\n",
       "      <td>a06848a2191f9033a7eb98278b7bb55f534f1879</td>\n",
       "      <td>DEFAULT_CONFIG -&gt; CONFIG</td>\n",
       "      <td>8376ac431e0be1ab4de63723a08840fc6d85229b</td>\n",
       "      <td>False</td>\n",
       "      <td>animation.py; playground.py; simple_animations...</td>\n",
       "    </tr>\n",
       "    <tr>\n",
       "      <th>17</th>\n",
       "      <td>9d94337d9909cceef51d626cab62c9d5b3552b15</td>\n",
       "      <td>fixed tiny config error for Square</td>\n",
       "      <td>6bb3a2c18194ef1a1e728c869b22794cebe7f3f8</td>\n",
       "      <td>False</td>\n",
       "      <td>geometry.py</td>\n",
       "    </tr>\n",
       "    <tr>\n",
       "      <th>18</th>\n",
       "      <td>803301e4a181e98099967d701f2ddf034fa017f2</td>\n",
       "      <td>Fixes to multilayered scnes</td>\n",
       "      <td>9a73fe0d4e953d9ad9f602dd0fe1eab1b284b40d</td>\n",
       "      <td>False</td>\n",
       "      <td>curves.py; multilayered.py; constants.py</td>\n",
       "    </tr>\n",
       "    <tr>\n",
       "      <th>19</th>\n",
       "      <td>a9f620e2508cf9de4f5a405449673d4d50804d80</td>\n",
       "      <td>Better interpolation, bezier subpaths, and col...</td>\n",
       "      <td>c685211484b50a900b2d97bca6f1ecf631ab1ab4</td>\n",
       "      <td>False</td>\n",
       "      <td>camera.py; helpers.py; image_mobject.py; mobje...</td>\n",
       "    </tr>\n",
       "  </tbody>\n",
       "</table>\n",
       "</div>"
      ],
      "text/plain": [
       "                                 commit_hash  \\\n",
       "0   014a277a97759bbc0e6ec8fba588bc6e6de65a86   \n",
       "1   2e074afb60d13262ce1e42e83bcf0ed28d95ad82   \n",
       "2   ac930952f151acf284f6e01e98e8f7256f29f9f4   \n",
       "3   2322018875b218cc156f50d30d865a86d4a68a13   \n",
       "4   7ae5a0eccb13713b3439d9c0a0b79bcfc96b05be   \n",
       "5   f21f6619a5150d193d85ed31ef60ed5b986661ca   \n",
       "6   68160140233b8f7ebf00aa2894ea57984c504a90   \n",
       "7   4f57551344e2655e53c9dcf72ee7d17333605f62   \n",
       "8   5964d5206ac15fc0544325728e232b69aa007e4d   \n",
       "9   9e54a5a6802d12994b007434b98c9f82d7dfd085   \n",
       "10  ea6343691d440c1662480b25f6696c6d1090c537   \n",
       "11  69be4328ce0a90a25758a7d158b8bc4ee973ce29   \n",
       "12  ff5075ce7d3db6381fb0e7e44f90af4b8ac47746   \n",
       "13  810bcb98133aa1a62efc52c75cc1d285b241293e   \n",
       "14  468303c30912618ceb84cafc9462c37da55b73fe   \n",
       "15  9262c395ce77e6b15603803fe0e38607146c8b25   \n",
       "16  a06848a2191f9033a7eb98278b7bb55f534f1879   \n",
       "17  9d94337d9909cceef51d626cab62c9d5b3552b15   \n",
       "18  803301e4a181e98099967d701f2ddf034fa017f2   \n",
       "19  a9f620e2508cf9de4f5a405449673d4d50804d80   \n",
       "\n",
       "                                       commit_message  \\\n",
       "0   A few fixes to initial point_thickness impleme...   \n",
       "1   middle of massive restructure, everything stil...   \n",
       "2   Beginning transform KA article, many small fix...   \n",
       "3             quick rgb-should-be-numpy-array bug fix   \n",
       "4   Slightly faster sort_points method, and bug fi...   \n",
       "5                                Fix to Stars Mobject   \n",
       "6           Bug fix to bug fix on Mobject.fade method   \n",
       "7                                 Bug in Arrow buffer   \n",
       "8                                  Fixed ShowCreation   \n",
       "9       Fixed PiCreature mouth, but more work remains   \n",
       "10                      Different default arrow color   \n",
       "11     Small bug in how displayer had been refactored   \n",
       "12                             Couple scene bug fixes   \n",
       "13   Small fixes while putting together Hilbert video   \n",
       "14                                    tuplify bug fix   \n",
       "15      Turns out generate_logo was broken, who knew?   \n",
       "16                           DEFAULT_CONFIG -> CONFIG   \n",
       "17                 fixed tiny config error for Square   \n",
       "18                        Fixes to multilayered scnes   \n",
       "19  Better interpolation, bezier subpaths, and col...   \n",
       "\n",
       "                               parent_hashes  is_merge_commit  \\\n",
       "0   c0994ed0a53f06a555ea8d42903c2038fb54db2a            False   \n",
       "1   096c5c1890e326e67ee387c921901f84ca3f3f37            False   \n",
       "2   d294d0f951f01b307805d18679509c4c9d4b7301            False   \n",
       "3   c7389e008d3dc79f61e8270ff18758210b7e6a9e            False   \n",
       "4   7f45044bafb27c94ae1b3f900014b3fbdc612e5f            False   \n",
       "5   7ae5a0eccb13713b3439d9c0a0b79bcfc96b05be            False   \n",
       "6   8f8eeea870c2f780cc93950a6de6bd6a168fcfb4            False   \n",
       "7   68160140233b8f7ebf00aa2894ea57984c504a90            False   \n",
       "8   84054286824d0ca17219f7d3e11a5f256f098559            False   \n",
       "9   c0009064d6ee0183f2d36fd15d7442b6efd10f54            False   \n",
       "10  9e54a5a6802d12994b007434b98c9f82d7dfd085            False   \n",
       "11  c16abfd6c80268e2656a95d566afb522aa6659ba            False   \n",
       "12  e45e20b5b0fc03cf60c2985d59a5b2883c714af1            False   \n",
       "13  64ac1426b3f00e85d26001b227542b53543090bd            False   \n",
       "14  75c88375d9b09be6b3021b3b87ba424c51c74fe2            False   \n",
       "15  9c2bb850fece9fe2dd1a6486a81cef8591eea475            False   \n",
       "16  8376ac431e0be1ab4de63723a08840fc6d85229b            False   \n",
       "17  6bb3a2c18194ef1a1e728c869b22794cebe7f3f8            False   \n",
       "18  9a73fe0d4e953d9ad9f602dd0fe1eab1b284b40d            False   \n",
       "19  c685211484b50a900b2d97bca6f1ecf631ab1ab4            False   \n",
       "\n",
       "                                       modified_files  \n",
       "0              constants.py; displayer.py; mobject.py  \n",
       "1   __init__.py; __init__.py; animation.py; meta_a...  \n",
       "2   animation.py; meta_animations.py; simple_anima...  \n",
       "3                                          mobject.py  \n",
       "4                                          mobject.py  \n",
       "5                    geometry.py; three_dimensions.py  \n",
       "6                                          mobject.py  \n",
       "7                                         geometry.py  \n",
       "8                                simple_animations.py  \n",
       "9                                       characters.py  \n",
       "10                                        geometry.py  \n",
       "11                                       displayer.py  \n",
       "12                                           scene.py  \n",
       "13      section1.py; section2.py; stage_animations.py  \n",
       "14                                         helpers.py  \n",
       "15                                   generate_logo.py  \n",
       "16  animation.py; playground.py; simple_animations...  \n",
       "17                                        geometry.py  \n",
       "18           curves.py; multilayered.py; constants.py  \n",
       "19  camera.py; helpers.py; image_mobject.py; mobje...  "
      ]
     },
     "metadata": {},
     "output_type": "display_data"
    }
   ],
   "source": [
    "bugfix_commits_df = pd.read_csv(f\"{output_folder}/{output_csv}\")\n",
    "print(\"Number of bug-fixing commits found:\", len(bugfix_commits_df))\n",
    "\n",
    "display(bugfix_commits_df.head(20))"
   ]
  },
  {
   "cell_type": "code",
   "execution_count": null,
   "id": "ab5d345d",
   "metadata": {},
   "outputs": [],
   "source": []
  }
 ],
 "metadata": {
  "kernelspec": {
   "display_name": "cs202-stt (3.13.7)",
   "language": "python",
   "name": "python3"
  },
  "language_info": {
   "codemirror_mode": {
    "name": "ipython",
    "version": 3
   },
   "file_extension": ".py",
   "mimetype": "text/x-python",
   "name": "python",
   "nbconvert_exporter": "python",
   "pygments_lexer": "ipython3",
   "version": "3.13.7"
  }
 },
 "nbformat": 4,
 "nbformat_minor": 5
}
