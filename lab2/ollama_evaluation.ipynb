{
 "cells": [
  {
   "cell_type": "markdown",
   "id": "e1972628",
   "metadata": {},
   "source": [
    "## Evaluation: Research Questions¹:\n",
    "- **RQ1 (Developer eval.):** Do developers use a precise commit message in the fixing commit? Quantify the hit rate.\n",
    "- **RQ2 (LLM eval.):** Does the LLM generate a precise commit message in the fixing commit? Quantify the hit rate.\n",
    "- **RQ3 (Rectifier eval.):** To what extent were you able to rectify the message? Quantify the hit rate."
   ]
  },
  {
   "cell_type": "code",
   "execution_count": 1,
   "id": "e5127a87",
   "metadata": {},
   "outputs": [
    {
     "name": "stdout",
     "output_type": "stream",
     "text": [
      "Using device: cuda\n",
      "PyTorch version: 2.8.0+cu129\n",
      "CUDA version: 12.9\n",
      "Device name: NVIDIA GeForce RTX 4060 Laptop GPU\n"
     ]
    }
   ],
   "source": [
    "import pandas as pd\n",
    "from tqdm import tqdm\n",
    "tqdm.pandas()\n",
    "\n",
    "import torch\n",
    "import torch.nn.functional as F\n",
    "\n",
    "device = torch.device(\"cuda\" if torch.cuda.is_available() else \"cpu\")\n",
    "print(\"Using device:\", device)\n",
    "print(\"PyTorch version:\", torch.__version__)\n",
    "if device.type == 'cuda':\n",
    "    print(\"CUDA version:\", torch.version.cuda)\n",
    "    print(\"Device name:\", torch.cuda.get_device_name(0))\n",
    "\n",
    "def set_seed(seed):\n",
    "    torch.manual_seed(seed)\n",
    "    if torch.cuda.is_available():\n",
    "        torch.cuda.manual_seed_all(seed)\n",
    "set_seed(42)"
   ]
  },
  {
   "cell_type": "code",
   "execution_count": 2,
   "id": "27d29afd",
   "metadata": {},
   "outputs": [],
   "source": [
    "from transformers import RobertaTokenizer, RobertaModel\n",
    "\n",
    "MODEL_NAME = \"microsoft/codebert-base\"\n",
    "tokenizer = RobertaTokenizer.from_pretrained(MODEL_NAME)\n",
    "model = RobertaModel.from_pretrained(MODEL_NAME).to(device)"
   ]
  },
  {
   "cell_type": "code",
   "execution_count": 5,
   "id": "b8ea9a45",
   "metadata": {},
   "outputs": [],
   "source": [
    "def get_code_embedding(code_snippet):\n",
    "    tokens = tokenizer(code_snippet, return_tensors=\"pt\", truncation=True, padding=True, max_length=512)\n",
    "    inputs = {key: val.to(device) for key, val in tokens.items()}\n",
    "    with torch.no_grad():\n",
    "        outputs = model(**inputs)\n",
    "    # Use the [CLS] token representation as the embedding\n",
    "    cls_embedding = outputs.last_hidden_state[:, 0, :]\n",
    "    return cls_embedding\n",
    "\n",
    "def cosine_sim(vec1, vec2):\n",
    "    return F.cosine_similarity(vec1, vec2).item()\n",
    "\n",
    "def score(code, msg):\n",
    "    if not msg.strip() or not code.strip():\n",
    "        return 0\n",
    "    code_emb = get_code_embedding(code)\n",
    "    msg_emb = get_code_embedding(msg)\n",
    "    return cosine_sim(code_emb, msg_emb)\n",
    "\n",
    "def evaluate_with_codebert(df):\n",
    "    print(\"Evaluating with CodeBERT...\")\n",
    "    print(\"\\nScoring original commit messages...\")\n",
    "    df[\"dev_score\"] = df.progress_apply(lambda r: score(r[\"Diff\"], r[\"Message\"]), axis=1)\n",
    "    print(\"\\nScoring LLM inference messages...\")\n",
    "    df[\"llm_inference_score\"] = df.progress_apply(lambda r: score(r[\"Diff\"], r[\"LLM Inference (fix type)\"]), axis=1)\n",
    "    print(\"\\nScoring rectified messages...\")\n",
    "    df[\"rectifier_score\"] = df.progress_apply(lambda r: score(r[\"Diff\"], r[\"Rectified Message\"]), axis=1)\n",
    "    return df"
   ]
  },
  {
   "cell_type": "code",
   "execution_count": null,
   "id": "9e9dbf78",
   "metadata": {},
   "outputs": [
    {
     "name": "stdout",
     "output_type": "stream",
     "text": [
      "Evaluating with CodeBERT...\n",
      "\n",
      "Scoring original commit messages...\n"
     ]
    },
    {
     "name": "stderr",
     "output_type": "stream",
     "text": [
      "100%|██████████| 2041/2041 [01:52<00:00, 18.21it/s]\n"
     ]
    },
    {
     "name": "stdout",
     "output_type": "stream",
     "text": [
      "\n",
      "Scoring LLM inference messages...\n"
     ]
    },
    {
     "name": "stderr",
     "output_type": "stream",
     "text": [
      "100%|██████████| 2041/2041 [01:45<00:00, 19.28it/s]\n"
     ]
    },
    {
     "name": "stdout",
     "output_type": "stream",
     "text": [
      "\n",
      "Scoring rectified messages...\n"
     ]
    },
    {
     "name": "stderr",
     "output_type": "stream",
     "text": [
      "100%|██████████| 2041/2041 [01:46<00:00, 19.10it/s]\n"
     ]
    },
    {
     "data": {
      "application/vnd.microsoft.datawrangler.viewer.v0+json": {
       "columns": [
        {
         "name": "index",
         "rawType": "int64",
         "type": "integer"
        },
        {
         "name": "Hash",
         "rawType": "object",
         "type": "string"
        },
        {
         "name": "File Name",
         "rawType": "object",
         "type": "string"
        },
        {
         "name": "dev_score",
         "rawType": "float64",
         "type": "float"
        },
        {
         "name": "llm_inference_score",
         "rawType": "float64",
         "type": "float"
        },
        {
         "name": "rectifier_score",
         "rawType": "float64",
         "type": "float"
        }
       ],
       "ref": "2f3b44c7-3b3d-4a04-9166-a45198efb6ed",
       "rows": [
        [
         "0",
         "014a277a97759bbc0e6ec8fba588bc6e6de65a86",
         "constants.py",
         "0.9626579284667969",
         "0.9422588348388672",
         "0.9763227105140686"
        ],
        [
         "1",
         "014a277a97759bbc0e6ec8fba588bc6e6de65a86",
         "displayer.py",
         "0.9184877872467041",
         "0.9029970765113831",
         "0.9415498375892639"
        ],
        [
         "2",
         "014a277a97759bbc0e6ec8fba588bc6e6de65a86",
         "mobject.py",
         "0.9377609491348267",
         "0.9213781952857971",
         "0.9593157768249512"
        ],
        [
         "3",
         "2e074afb60d13262ce1e42e83bcf0ed28d95ad82",
         "__init__.py",
         "0.9427886605262756",
         "0.9330251812934875",
         "0.9635186195373535"
        ],
        [
         "4",
         "2e074afb60d13262ce1e42e83bcf0ed28d95ad82",
         "__init__.py",
         "0.9706270098686218",
         "0.9625706672668457",
         "0.9696768522262573"
        ],
        [
         "5",
         "2e074afb60d13262ce1e42e83bcf0ed28d95ad82",
         "animation.py",
         "0.9533001184463501",
         "0.9541015625",
         "0.969745934009552"
        ],
        [
         "6",
         "2e074afb60d13262ce1e42e83bcf0ed28d95ad82",
         "meta_animations.py",
         "0.8979862332344055",
         "0.9112799763679504",
         "0.9777572154998779"
        ],
        [
         "7",
         "2e074afb60d13262ce1e42e83bcf0ed28d95ad82",
         "simple_animations.py",
         "0.8920420408248901",
         "0.8983789086341858",
         "0.9036296606063843"
        ],
        [
         "8",
         "2e074afb60d13262ce1e42e83bcf0ed28d95ad82",
         "transform.py",
         "0.8899939060211182",
         "0.8707866072654724",
         "0.9668232202529907"
        ],
        [
         "9",
         "2e074afb60d13262ce1e42e83bcf0ed28d95ad82",
         "displayer.py",
         "0.9115107655525208",
         "0.9249895811080933",
         "0.9373805522918701"
        ],
        [
         "10",
         "2e074afb60d13262ce1e42e83bcf0ed28d95ad82",
         "extract_scene.py",
         "0.9135717153549194",
         "0.9174706935882568",
         "0.9414130449295044"
        ],
        [
         "11",
         "2e074afb60d13262ce1e42e83bcf0ed28d95ad82",
         "helpers.py",
         "0.8897685408592224",
         "0.9061243534088135",
         "0.9271193742752075"
        ],
        [
         "12",
         "2e074afb60d13262ce1e42e83bcf0ed28d95ad82",
         "image_mobject.py",
         "0.9074442982673645",
         "0.9115692377090454",
         "0.9176700711250305"
        ],
        [
         "13",
         "2e074afb60d13262ce1e42e83bcf0ed28d95ad82",
         "images2gif.py",
         "0.8830281496047974",
         "0.8727213144302368",
         "0.9630900025367737"
        ],
        [
         "14",
         "2e074afb60d13262ce1e42e83bcf0ed28d95ad82",
         "mobject.py",
         "0.9594241380691528",
         "0.9554145336151123",
         "0.9775534868240356"
        ],
        [
         "15",
         "2e074afb60d13262ce1e42e83bcf0ed28d95ad82",
         "__init__.py",
         "0.9682530164718628",
         "0.9595189094543457",
         "0.9702295064926147"
        ],
        [
         "16",
         "2e074afb60d13262ce1e42e83bcf0ed28d95ad82",
         "complex_multiplication_article.py",
         "0.900738000869751",
         "0.9121122360229492",
         "0.9187069535255432"
        ],
        [
         "17",
         "2e074afb60d13262ce1e42e83bcf0ed28d95ad82",
         "generate_logo.py",
         "0.9559271931648254",
         "0.9555019736289978",
         "0.972876787185669"
        ],
        [
         "18",
         "2e074afb60d13262ce1e42e83bcf0ed28d95ad82",
         "moser_main.py",
         "0.9751043319702148",
         "0.9652329683303833",
         "0.9854247570037842"
        ],
        [
         "19",
         "2e074afb60d13262ce1e42e83bcf0ed28d95ad82",
         "region.py",
         "0.9545609951019287",
         "0.9500386714935303",
         "0.9826169013977051"
        ]
       ],
       "shape": {
        "columns": 5,
        "rows": 20
       }
      },
      "text/html": [
       "<div>\n",
       "<style scoped>\n",
       "    .dataframe tbody tr th:only-of-type {\n",
       "        vertical-align: middle;\n",
       "    }\n",
       "\n",
       "    .dataframe tbody tr th {\n",
       "        vertical-align: top;\n",
       "    }\n",
       "\n",
       "    .dataframe thead th {\n",
       "        text-align: right;\n",
       "    }\n",
       "</style>\n",
       "<table border=\"1\" class=\"dataframe\">\n",
       "  <thead>\n",
       "    <tr style=\"text-align: right;\">\n",
       "      <th></th>\n",
       "      <th>Hash</th>\n",
       "      <th>File Name</th>\n",
       "      <th>dev_score</th>\n",
       "      <th>llm_inference_score</th>\n",
       "      <th>rectifier_score</th>\n",
       "    </tr>\n",
       "  </thead>\n",
       "  <tbody>\n",
       "    <tr>\n",
       "      <th>0</th>\n",
       "      <td>014a277a97759bbc0e6ec8fba588bc6e6de65a86</td>\n",
       "      <td>constants.py</td>\n",
       "      <td>0.962658</td>\n",
       "      <td>0.942259</td>\n",
       "      <td>0.976323</td>\n",
       "    </tr>\n",
       "    <tr>\n",
       "      <th>1</th>\n",
       "      <td>014a277a97759bbc0e6ec8fba588bc6e6de65a86</td>\n",
       "      <td>displayer.py</td>\n",
       "      <td>0.918488</td>\n",
       "      <td>0.902997</td>\n",
       "      <td>0.941550</td>\n",
       "    </tr>\n",
       "    <tr>\n",
       "      <th>2</th>\n",
       "      <td>014a277a97759bbc0e6ec8fba588bc6e6de65a86</td>\n",
       "      <td>mobject.py</td>\n",
       "      <td>0.937761</td>\n",
       "      <td>0.921378</td>\n",
       "      <td>0.959316</td>\n",
       "    </tr>\n",
       "    <tr>\n",
       "      <th>3</th>\n",
       "      <td>2e074afb60d13262ce1e42e83bcf0ed28d95ad82</td>\n",
       "      <td>__init__.py</td>\n",
       "      <td>0.942789</td>\n",
       "      <td>0.933025</td>\n",
       "      <td>0.963519</td>\n",
       "    </tr>\n",
       "    <tr>\n",
       "      <th>4</th>\n",
       "      <td>2e074afb60d13262ce1e42e83bcf0ed28d95ad82</td>\n",
       "      <td>__init__.py</td>\n",
       "      <td>0.970627</td>\n",
       "      <td>0.962571</td>\n",
       "      <td>0.969677</td>\n",
       "    </tr>\n",
       "    <tr>\n",
       "      <th>5</th>\n",
       "      <td>2e074afb60d13262ce1e42e83bcf0ed28d95ad82</td>\n",
       "      <td>animation.py</td>\n",
       "      <td>0.953300</td>\n",
       "      <td>0.954102</td>\n",
       "      <td>0.969746</td>\n",
       "    </tr>\n",
       "    <tr>\n",
       "      <th>6</th>\n",
       "      <td>2e074afb60d13262ce1e42e83bcf0ed28d95ad82</td>\n",
       "      <td>meta_animations.py</td>\n",
       "      <td>0.897986</td>\n",
       "      <td>0.911280</td>\n",
       "      <td>0.977757</td>\n",
       "    </tr>\n",
       "    <tr>\n",
       "      <th>7</th>\n",
       "      <td>2e074afb60d13262ce1e42e83bcf0ed28d95ad82</td>\n",
       "      <td>simple_animations.py</td>\n",
       "      <td>0.892042</td>\n",
       "      <td>0.898379</td>\n",
       "      <td>0.903630</td>\n",
       "    </tr>\n",
       "    <tr>\n",
       "      <th>8</th>\n",
       "      <td>2e074afb60d13262ce1e42e83bcf0ed28d95ad82</td>\n",
       "      <td>transform.py</td>\n",
       "      <td>0.889994</td>\n",
       "      <td>0.870787</td>\n",
       "      <td>0.966823</td>\n",
       "    </tr>\n",
       "    <tr>\n",
       "      <th>9</th>\n",
       "      <td>2e074afb60d13262ce1e42e83bcf0ed28d95ad82</td>\n",
       "      <td>displayer.py</td>\n",
       "      <td>0.911511</td>\n",
       "      <td>0.924990</td>\n",
       "      <td>0.937381</td>\n",
       "    </tr>\n",
       "    <tr>\n",
       "      <th>10</th>\n",
       "      <td>2e074afb60d13262ce1e42e83bcf0ed28d95ad82</td>\n",
       "      <td>extract_scene.py</td>\n",
       "      <td>0.913572</td>\n",
       "      <td>0.917471</td>\n",
       "      <td>0.941413</td>\n",
       "    </tr>\n",
       "    <tr>\n",
       "      <th>11</th>\n",
       "      <td>2e074afb60d13262ce1e42e83bcf0ed28d95ad82</td>\n",
       "      <td>helpers.py</td>\n",
       "      <td>0.889769</td>\n",
       "      <td>0.906124</td>\n",
       "      <td>0.927119</td>\n",
       "    </tr>\n",
       "    <tr>\n",
       "      <th>12</th>\n",
       "      <td>2e074afb60d13262ce1e42e83bcf0ed28d95ad82</td>\n",
       "      <td>image_mobject.py</td>\n",
       "      <td>0.907444</td>\n",
       "      <td>0.911569</td>\n",
       "      <td>0.917670</td>\n",
       "    </tr>\n",
       "    <tr>\n",
       "      <th>13</th>\n",
       "      <td>2e074afb60d13262ce1e42e83bcf0ed28d95ad82</td>\n",
       "      <td>images2gif.py</td>\n",
       "      <td>0.883028</td>\n",
       "      <td>0.872721</td>\n",
       "      <td>0.963090</td>\n",
       "    </tr>\n",
       "    <tr>\n",
       "      <th>14</th>\n",
       "      <td>2e074afb60d13262ce1e42e83bcf0ed28d95ad82</td>\n",
       "      <td>mobject.py</td>\n",
       "      <td>0.959424</td>\n",
       "      <td>0.955415</td>\n",
       "      <td>0.977553</td>\n",
       "    </tr>\n",
       "    <tr>\n",
       "      <th>15</th>\n",
       "      <td>2e074afb60d13262ce1e42e83bcf0ed28d95ad82</td>\n",
       "      <td>__init__.py</td>\n",
       "      <td>0.968253</td>\n",
       "      <td>0.959519</td>\n",
       "      <td>0.970230</td>\n",
       "    </tr>\n",
       "    <tr>\n",
       "      <th>16</th>\n",
       "      <td>2e074afb60d13262ce1e42e83bcf0ed28d95ad82</td>\n",
       "      <td>complex_multiplication_article.py</td>\n",
       "      <td>0.900738</td>\n",
       "      <td>0.912112</td>\n",
       "      <td>0.918707</td>\n",
       "    </tr>\n",
       "    <tr>\n",
       "      <th>17</th>\n",
       "      <td>2e074afb60d13262ce1e42e83bcf0ed28d95ad82</td>\n",
       "      <td>generate_logo.py</td>\n",
       "      <td>0.955927</td>\n",
       "      <td>0.955502</td>\n",
       "      <td>0.972877</td>\n",
       "    </tr>\n",
       "    <tr>\n",
       "      <th>18</th>\n",
       "      <td>2e074afb60d13262ce1e42e83bcf0ed28d95ad82</td>\n",
       "      <td>moser_main.py</td>\n",
       "      <td>0.975104</td>\n",
       "      <td>0.965233</td>\n",
       "      <td>0.985425</td>\n",
       "    </tr>\n",
       "    <tr>\n",
       "      <th>19</th>\n",
       "      <td>2e074afb60d13262ce1e42e83bcf0ed28d95ad82</td>\n",
       "      <td>region.py</td>\n",
       "      <td>0.954561</td>\n",
       "      <td>0.950039</td>\n",
       "      <td>0.982617</td>\n",
       "    </tr>\n",
       "  </tbody>\n",
       "</table>\n",
       "</div>"
      ],
      "text/plain": [
       "                                        Hash  \\\n",
       "0   014a277a97759bbc0e6ec8fba588bc6e6de65a86   \n",
       "1   014a277a97759bbc0e6ec8fba588bc6e6de65a86   \n",
       "2   014a277a97759bbc0e6ec8fba588bc6e6de65a86   \n",
       "3   2e074afb60d13262ce1e42e83bcf0ed28d95ad82   \n",
       "4   2e074afb60d13262ce1e42e83bcf0ed28d95ad82   \n",
       "5   2e074afb60d13262ce1e42e83bcf0ed28d95ad82   \n",
       "6   2e074afb60d13262ce1e42e83bcf0ed28d95ad82   \n",
       "7   2e074afb60d13262ce1e42e83bcf0ed28d95ad82   \n",
       "8   2e074afb60d13262ce1e42e83bcf0ed28d95ad82   \n",
       "9   2e074afb60d13262ce1e42e83bcf0ed28d95ad82   \n",
       "10  2e074afb60d13262ce1e42e83bcf0ed28d95ad82   \n",
       "11  2e074afb60d13262ce1e42e83bcf0ed28d95ad82   \n",
       "12  2e074afb60d13262ce1e42e83bcf0ed28d95ad82   \n",
       "13  2e074afb60d13262ce1e42e83bcf0ed28d95ad82   \n",
       "14  2e074afb60d13262ce1e42e83bcf0ed28d95ad82   \n",
       "15  2e074afb60d13262ce1e42e83bcf0ed28d95ad82   \n",
       "16  2e074afb60d13262ce1e42e83bcf0ed28d95ad82   \n",
       "17  2e074afb60d13262ce1e42e83bcf0ed28d95ad82   \n",
       "18  2e074afb60d13262ce1e42e83bcf0ed28d95ad82   \n",
       "19  2e074afb60d13262ce1e42e83bcf0ed28d95ad82   \n",
       "\n",
       "                            File Name  dev_score  llm_inference_score  \\\n",
       "0                        constants.py   0.962658             0.942259   \n",
       "1                        displayer.py   0.918488             0.902997   \n",
       "2                          mobject.py   0.937761             0.921378   \n",
       "3                         __init__.py   0.942789             0.933025   \n",
       "4                         __init__.py   0.970627             0.962571   \n",
       "5                        animation.py   0.953300             0.954102   \n",
       "6                  meta_animations.py   0.897986             0.911280   \n",
       "7                simple_animations.py   0.892042             0.898379   \n",
       "8                        transform.py   0.889994             0.870787   \n",
       "9                        displayer.py   0.911511             0.924990   \n",
       "10                   extract_scene.py   0.913572             0.917471   \n",
       "11                         helpers.py   0.889769             0.906124   \n",
       "12                   image_mobject.py   0.907444             0.911569   \n",
       "13                      images2gif.py   0.883028             0.872721   \n",
       "14                         mobject.py   0.959424             0.955415   \n",
       "15                        __init__.py   0.968253             0.959519   \n",
       "16  complex_multiplication_article.py   0.900738             0.912112   \n",
       "17                   generate_logo.py   0.955927             0.955502   \n",
       "18                      moser_main.py   0.975104             0.965233   \n",
       "19                          region.py   0.954561             0.950039   \n",
       "\n",
       "    rectifier_score  \n",
       "0          0.976323  \n",
       "1          0.941550  \n",
       "2          0.959316  \n",
       "3          0.963519  \n",
       "4          0.969677  \n",
       "5          0.969746  \n",
       "6          0.977757  \n",
       "7          0.903630  \n",
       "8          0.966823  \n",
       "9          0.937381  \n",
       "10         0.941413  \n",
       "11         0.927119  \n",
       "12         0.917670  \n",
       "13         0.963090  \n",
       "14         0.977553  \n",
       "15         0.970230  \n",
       "16         0.918707  \n",
       "17         0.972877  \n",
       "18         0.985425  \n",
       "19         0.982617  "
      ]
     },
     "metadata": {},
     "output_type": "display_data"
    }
   ],
   "source": [
    "df = pd.read_csv(\"results/ollama_rectified_commits.csv\")\n",
    "df = evaluate_with_codebert(df)\n",
    "scores_df = df[[\"Hash\", \"File Name\", \"dev_score\", \"llm_inference_score\", \"rectifier_score\"]]\n",
    "scores_df.to_csv(\"results/ollama_scores_codebert.csv\", index=False)\n",
    "display(scores_df.head(20))"
   ]
  },
  {
   "cell_type": "code",
   "execution_count": null,
   "id": "e3a66756",
   "metadata": {},
   "outputs": [
    {
     "name": "stdout",
     "output_type": "stream",
     "text": [
      "RQ1 - Developer precise hit rate: 91.28%\n",
      "RQ2 - LLM precise hit rate: 93.39%\n",
      "RQ3 - Rectifier precise hit rate: 100.00%\n"
     ]
    }
   ],
   "source": [
    "scores_df = pd.read_csv(\"results/scores_codebert.csv\")\n",
    "threshold = 0.9\n",
    "\n",
    "scores_df.loc[:, \"dev_precise\"] = scores_df[\"dev_score\"] > threshold\n",
    "scores_df.loc[:, \"llm_precise\"] = scores_df[\"llm_inference_score\"] > threshold\n",
    "scores_df.loc[:, \"rectifier_precise\"] = scores_df[\"rectifier_score\"] > threshold\n",
    "\n",
    "# RQ results\n",
    "rq1 = scores_df[\"dev_precise\"].mean() * 100\n",
    "rq2 = scores_df[\"llm_precise\"].mean() * 100\n",
    "rq3 = scores_df[\"rectifier_precise\"].mean() * 100\n",
    "\n",
    "print(f\"RQ1 - Developer precise hit rate: {rq1:.2f}%\")\n",
    "print(f\"RQ2 - LLM precise hit rate: {rq2:.2f}%\")\n",
    "print(f\"RQ3 - Rectifier precise hit rate: {rq3:.2f}%\")"
   ]
  },
  {
   "cell_type": "code",
   "execution_count": null,
   "id": "cb64bc8f",
   "metadata": {},
   "outputs": [],
   "source": []
  }
 ],
 "metadata": {
  "kernelspec": {
   "display_name": "cs202-stt (3.13.7)",
   "language": "python",
   "name": "python3"
  },
  "language_info": {
   "codemirror_mode": {
    "name": "ipython",
    "version": 3
   },
   "file_extension": ".py",
   "mimetype": "text/x-python",
   "name": "python",
   "nbconvert_exporter": "python",
   "pygments_lexer": "ipython3",
   "version": "3.13.7"
  }
 },
 "nbformat": 4,
 "nbformat_minor": 5
}
