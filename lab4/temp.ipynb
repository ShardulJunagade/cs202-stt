{
 "cells": [
  {
   "cell_type": "code",
   "execution_count": 5,
   "id": "718f601c",
   "metadata": {},
   "outputs": [
    {
     "name": "stdout",
     "output_type": "stream",
     "text": [
      "Python version: 3.13.7 (tags/v3.13.7:bcee1c3, Aug 14 2025, 14:15:11) [MSC v.1944 64 bit (AMD64)]\n",
      "Using device: cuda\n",
      "PyTorch version: 2.8.0+cu129\n",
      "CUDA version: 12.9\n",
      "Device name: NVIDIA GeForce RTX 4060 Laptop GPU\n",
      "PyDriller version: 2.8\n",
      "Transformers version: 4.56.0\n"
     ]
    }
   ],
   "source": [
    "import torch\n",
    "import sys\n",
    "import pydriller\n",
    "import transformers\n",
    "print(\"Python version:\", sys.version)\n",
    "\n",
    "device = torch.device(\"cuda\" if torch.cuda.is_available() else \"cpu\")\n",
    "print(\"Using device:\", device)\n",
    "print(\"PyTorch version:\", torch.__version__)\n",
    "if device.type == 'cuda':\n",
    "    print(\"CUDA version:\", torch.version.cuda)\n",
    "    print(\"Device name:\", torch.cuda.get_device_name(0))\n",
    "print(\"PyDriller version:\", pydriller.__version__)\n",
    "print(\"Transformers version:\", transformers.__version__)\n",
    "\n"
   ]
  },
  {
   "cell_type": "code",
   "execution_count": null,
   "id": "c70045a3",
   "metadata": {},
   "outputs": [
    {
     "name": "stdout",
     "output_type": "stream",
     "text": [
      "Python version: 3.13.7 (tags/v3.13.7:bcee1c3, Aug 14 2025, 14:15:11) [MSC v.1944 64 bit (AMD64)]\n",
      "Using device: cuda\n",
      "PyTorch version: 2.8.0+cu129\n",
      "CUDA version: 12.9\n",
      "Device name: NVIDIA GeForce RTX 4060 Laptop GPU\n",
      "\n",
      "radon: 6.0.1\n",
      "transformers: 4.56.0\n",
      "scikit-learn: 1.7.1\n",
      "numpy: 2.3.2\n",
      "pandas: 2.3.2\n",
      "tqdm: 4.67.1\n",
      "nltk: 3.9.1\n"
     ]
    }
   ],
   "source": [
    "import torch\n",
    "import transformers\n",
    "import sklearn\n",
    "import numpy\n",
    "import pandas\n",
    "import tqdm\n",
    "import nltk\n",
    "import radon\n",
    "print(\"Python version:\", sys.version)\n",
    "device = torch.device(\"cuda\" if torch.cuda.is_available() else \"cpu\")\n",
    "print(\"Using device:\", device)\n",
    "print(\"PyTorch version:\", torch.__version__)\n",
    "if device.type == 'cuda':\n",
    "    print(\"CUDA version:\", torch.version.cuda)\n",
    "    print(\"Device name:\", torch.cuda.get_device_name(0))\n",
    "\n",
    "print(\"\\nradon:\", radon.__version__)\n",
    "print(\"transformers:\", transformers.__version__)\n",
    "print(\"scikit-learn:\", sklearn.__version__)\n",
    "print(\"numpy:\", numpy.__version__)\n",
    "print(\"pandas:\", pandas.__version__)\n",
    "print(\"tqdm:\", tqdm.__version__)\n",
    "print(\"nltk:\", nltk.__version__)"
   ]
  },
  {
   "cell_type": "code",
   "execution_count": 1,
   "id": "a79bfd80",
   "metadata": {},
   "outputs": [
    {
     "name": "stdout",
     "output_type": "stream",
     "text": [
      "Python version: 3.13.7 (tags/v3.13.7:bcee1c3, Aug 14 2025, 14:15:11) [MSC v.1944 64 bit (AMD64)]\n",
      "pydriller: 2.8\n",
      "pandas: 2.3.2\n",
      "matplotlib: 3.10.6\n",
      "tqdm: 4.67.1\n"
     ]
    }
   ],
   "source": [
    "import sys\n",
    "print(\"Python version:\", sys.version)\n",
    "\n",
    "import pydriller\n",
    "print(\"pydriller:\", pydriller.__version__)\n",
    "\n",
    "import pandas\n",
    "print(\"pandas:\", pandas.__version__)\n",
    "\n",
    "import matplotlib\n",
    "print(\"matplotlib:\", matplotlib.__version__)\n",
    "\n",
    "\n",
    "import tqdm\n",
    "print(\"tqdm:\", tqdm.__version__)"
   ]
  },
  {
   "cell_type": "code",
   "execution_count": null,
   "id": "8ad08d11",
   "metadata": {},
   "outputs": [],
   "source": []
  }
 ],
 "metadata": {
  "kernelspec": {
   "display_name": "cs202-stt (3.13.7)",
   "language": "python",
   "name": "python3"
  },
  "language_info": {
   "codemirror_mode": {
    "name": "ipython",
    "version": 3
   },
   "file_extension": ".py",
   "mimetype": "text/x-python",
   "name": "python",
   "nbconvert_exporter": "python",
   "pygments_lexer": "ipython3",
   "version": "3.13.7"
  }
 },
 "nbformat": 4,
 "nbformat_minor": 5
}
